{
 "cells": [
  {
   "cell_type": "markdown",
   "id": "3f74520c-9446-40aa-8c59-3e73381eebe2",
   "metadata": {},
   "source": [
    "prepare Assignment 1 Bijayan Ray"
   ]
  },
  {
   "cell_type": "code",
   "execution_count": 2,
   "id": "eea50677-9cf5-4150-a350-f70f54fe23fe",
   "metadata": {},
   "outputs": [
    {
     "name": "stdout",
     "output_type": "stream",
     "text": [
      "Train, validation, and test datasets saved as train.csv, validation.csv, and test.csv.\n",
      "Train size: 3900, Validation size: 836, Test size: 836\n"
     ]
    }
   ],
   "source": [
    "import pandas as pd\n",
    "from sklearn.model_selection import train_test_split\n",
    "\n",
    "# Load the data\n",
    "file_path = 'sms_dataset/SMSSpamCollection'\n",
    "df = pd.read_csv(file_path, sep='\\t', header=None, names=['label', 'message'])\n",
    "\n",
    "# Preprocess the data\n",
    "df['label'] = df['label'].map({'ham': 0, 'spam': 1})\n",
    "\n",
    "# Split the data into train, validation, and test sets\n",
    "train_data, temp_data = train_test_split(df, test_size=0.3, random_state=42, stratify=df['label'])\n",
    "validation_data, test_data = train_test_split(temp_data, test_size=0.5, random_state=42, stratify=temp_data['label'])\n",
    "\n",
    "# Save the splits as CSV files\n",
    "train_data.to_csv('train.csv', index=False)\n",
    "validation_data.to_csv('validation.csv', index=False)\n",
    "test_data.to_csv('test.csv', index=False)\n",
    "\n",
    "# Verify the files\n",
    "print(\"Train, validation, and test datasets saved as train.csv, validation.csv, and test.csv.\")\n",
    "print(f\"Train size: {len(train_data)}, Validation size: {len(validation_data)}, Test size: {len(test_data)}\")"
   ]
  },
  {
   "cell_type": "code",
   "execution_count": null,
   "id": "0f974c72-ca27-429c-83df-435cb9cd146a",
   "metadata": {},
   "outputs": [],
   "source": []
  }
 ],
 "metadata": {
  "kernelspec": {
   "display_name": "Python 3 (ipykernel)",
   "language": "python",
   "name": "python3"
  },
  "language_info": {
   "codemirror_mode": {
    "name": "ipython",
    "version": 3
   },
   "file_extension": ".py",
   "mimetype": "text/x-python",
   "name": "python",
   "nbconvert_exporter": "python",
   "pygments_lexer": "ipython3",
   "version": "3.12.4"
  }
 },
 "nbformat": 4,
 "nbformat_minor": 5
}
