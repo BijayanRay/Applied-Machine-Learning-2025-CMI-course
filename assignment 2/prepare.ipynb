{
 "cells": [
  {
   "cell_type": "markdown",
   "id": "3f74520c-9446-40aa-8c59-3e73381eebe2",
   "metadata": {},
   "source": [
    "prepare Assignment 2 Bijayan Ray"
   ]
  },
  {
   "cell_type": "code",
   "execution_count": 1,
   "id": "9c4dc119-766d-483e-92a7-7c76b9c3f750",
   "metadata": {},
   "outputs": [],
   "source": [
    "# !unzip .\\sms_dataset.zip -d sms_dataset"
   ]
  },
  {
   "cell_type": "code",
   "execution_count": 15,
   "id": "7f75cd52-ce48-4369-a992-02a6f0e624d5",
   "metadata": {},
   "outputs": [
    {
     "name": "stdout",
     "output_type": "stream",
     "text": [
      "Initialized DVC repository.\n",
      "\n",
      "+---------------------------------------------------------------------+\n",
      "|                                                                     |\n",
      "|        DVC has enabled anonymous aggregate usage analytics.         |\n",
      "|     Read the analytics documentation (and how to opt-out) here:     |\n",
      "|             <https://dvc.org/doc/user-guide/analytics>              |\n",
      "|                                                                     |\n",
      "+---------------------------------------------------------------------+\n",
      "\n",
      "What's next?\n",
      "------------\n",
      "- Check out the documentation: <https://dvc.org/doc>\n",
      "- Get help and share ideas: <https://dvc.org/chat>\n",
      "- Star us on GitHub: <https://github.com/iterative/dvc>\n"
     ]
    }
   ],
   "source": [
    "!dvc init --no-scm"
   ]
  },
  {
   "cell_type": "code",
   "execution_count": 85,
   "id": "acc15388-132f-467b-85a5-d1427027d727",
   "metadata": {},
   "outputs": [],
   "source": [
    "import pandas as pd\n",
    "\n",
    "raw_path = \"./sms_dataset/SMSSpamCollection\"\n",
    "df = pd.read_csv(raw_path, sep='\\t', header=None, names=['label', 'message'])\n",
    "df.to_csv(\"raw_data.csv\", index=False)"
   ]
  },
  {
   "cell_type": "code",
   "execution_count": 94,
   "id": "f520b486-bd3f-4397-a968-18ed35e37567",
   "metadata": {},
   "outputs": [
    {
     "name": "stderr",
     "output_type": "stream",
     "text": [
      "\\u280b Checking graph\n",
      "\n"
     ]
    }
   ],
   "source": [
    "!dvc add raw_data.csv"
   ]
  },
  {
   "cell_type": "code",
   "execution_count": 95,
   "id": "37ab4ce9-be20-490c-baa3-b5c2fb48c4b9",
   "metadata": {},
   "outputs": [],
   "source": [
    "!git add raw_data.csv.dvc"
   ]
  },
  {
   "cell_type": "code",
   "execution_count": 96,
   "id": "2d4ce81a-44a2-435f-b449-4d0a9a6368d4",
   "metadata": {},
   "outputs": [
    {
     "name": "stdout",
     "output_type": "stream",
     "text": [
      "[main 1a775a2] Add raw data tracking with DVC\n",
      " 1 file changed, 5 insertions(+)\n",
      " create mode 100644 assignment 2/raw_data.csv.dvc\n"
     ]
    }
   ],
   "source": [
    "!git commit -m \"Add raw data tracking with DVC\""
   ]
  },
  {
   "cell_type": "markdown",
   "id": "a4239ffa-d459-44f7-b23d-7d8c613396e4",
   "metadata": {},
   "source": [
    "# splitting the dataset"
   ]
  },
  {
   "cell_type": "code",
   "execution_count": 97,
   "id": "eea50677-9cf5-4150-a350-f70f54fe23fe",
   "metadata": {},
   "outputs": [
    {
     "name": "stdout",
     "output_type": "stream",
     "text": [
      "Train, validation, and test datasets saved as train.csv, validation.csv, and test.csv.\n",
      "Train size: 3900, Validation size: 836, Test size: 836\n"
     ]
    }
   ],
   "source": [
    "import pandas as pd\n",
    "from sklearn.model_selection import train_test_split\n",
    "\n",
    "# Load the data\n",
    "df = pd.read_csv('raw_data.csv')\n",
    "\n",
    "# Preprocess the data\n",
    "df['label'] = df['label'].map({'ham': 0, 'spam': 1})\n",
    "\n",
    "# Split the data into train, validation, and test sets\n",
    "train_data, temp_data = train_test_split(df, test_size=0.3, random_state=98, stratify=df['label'])\n",
    "validation_data, test_data = train_test_split(temp_data, test_size=0.5, random_state=98, stratify=temp_data['label'])\n",
    "\n",
    "# Save the splits as CSV files\n",
    "train_data.to_csv('train.csv', index=False)\n",
    "validation_data.to_csv('validation.csv', index=False)\n",
    "test_data.to_csv('test.csv', index=False)\n",
    "\n",
    "# Verify the files\n",
    "print(\"Train, validation, and test datasets saved as train.csv, validation.csv, and test.csv.\")\n",
    "print(f\"Train size: {len(train_data)}, Validation size: {len(validation_data)}, Test size: {len(test_data)}\")"
   ]
  },
  {
   "cell_type": "code",
   "execution_count": 98,
   "id": "07efa8e9-69ec-485e-bf56-f8a7f127c709",
   "metadata": {},
   "outputs": [
    {
     "name": "stderr",
     "output_type": "stream",
     "text": [
      "\\u280b Checking graph\n",
      "\n"
     ]
    }
   ],
   "source": [
    "!dvc add train.csv validation.csv test.csv"
   ]
  },
  {
   "cell_type": "code",
   "execution_count": 99,
   "id": "c5d1a7eb-b08f-4f1e-a836-0bf53c0e5169",
   "metadata": {},
   "outputs": [
    {
     "name": "stdout",
     "output_type": "stream",
     "text": [
      "[main 6d07d52] Add train/validation/test splits\n",
      " 3 files changed, 6 insertions(+), 6 deletions(-)\n"
     ]
    }
   ],
   "source": [
    "!git add train.csv.dvc validation.csv.dvc test.csv.dvc\n",
    "!git commit -m \"Add train/validation/test splits\""
   ]
  },
  {
   "cell_type": "markdown",
   "id": "7d8431c6-e2ee-4b23-aad2-cd3d5f104e24",
   "metadata": {},
   "source": [
    "# checking out this version"
   ]
  },
  {
   "cell_type": "code",
   "execution_count": 100,
   "id": "e2e700c1-36d9-46dd-baa1-b89f32dceaf0",
   "metadata": {},
   "outputs": [],
   "source": [
    "!dvc checkout train.csv validation.csv test.csv"
   ]
  },
  {
   "cell_type": "code",
   "execution_count": 101,
   "id": "e52b5617-7df2-46a2-98ef-ed15ef506022",
   "metadata": {},
   "outputs": [
    {
     "name": "stdout",
     "output_type": "stream",
     "text": [
      "train.csv:\n",
      "label\n",
      "0    3377\n",
      "1     523\n",
      "Name: count, dtype: int64 \n",
      "\n",
      "validation.csv:\n",
      "label\n",
      "0    724\n",
      "1    112\n",
      "Name: count, dtype: int64 \n",
      "\n",
      "test.csv:\n",
      "label\n",
      "0    724\n",
      "1    112\n",
      "Name: count, dtype: int64 \n",
      "\n"
     ]
    }
   ],
   "source": [
    "for split in [\"train.csv\", \"validation.csv\", \"test.csv\"]:\n",
    "    df_split = pd.read_csv(split)\n",
    "    print(f\"{split}:\")\n",
    "    print(df_split['label'].value_counts(), \"\\n\")"
   ]
  },
  {
   "cell_type": "markdown",
   "id": "23d985bd-d696-47e5-9570-e19f82b5186b",
   "metadata": {},
   "source": [
    "# splitting the dataset with new random state"
   ]
  },
  {
   "cell_type": "code",
   "execution_count": 102,
   "id": "33ea059b-51eb-480e-bc60-9e01320e6d59",
   "metadata": {},
   "outputs": [
    {
     "name": "stdout",
     "output_type": "stream",
     "text": [
      "Train, validation, and test datasets saved as train.csv, validation.csv, and test.csv.\n",
      "Train size: 3900, Validation size: 836, Test size: 836\n"
     ]
    }
   ],
   "source": [
    "import pandas as pd\n",
    "from sklearn.model_selection import train_test_split\n",
    "\n",
    "# Load the data\n",
    "df = pd.read_csv('raw_data.csv')\n",
    "\n",
    "# Preprocess the data\n",
    "df['label'] = df['label'].map({'ham': 0, 'spam': 1})\n",
    "\n",
    "# Split the data into train, validation, and test sets\n",
    "train_data, temp_data = train_test_split(df, test_size=0.3, random_state=98, stratify=df['label'])\n",
    "validation_data, test_data = train_test_split(temp_data, test_size=0.5, random_state=89, stratify=temp_data['label'])\n",
    "\n",
    "# Save the splits as CSV files\n",
    "train_data.to_csv('train.csv', index=False)\n",
    "validation_data.to_csv('validation.csv', index=False)\n",
    "test_data.to_csv('test.csv', index=False)\n",
    "\n",
    "# Verify the files\n",
    "print(\"Train, validation, and test datasets saved as train.csv, validation.csv, and test.csv.\")\n",
    "print(f\"Train size: {len(train_data)}, Validation size: {len(validation_data)}, Test size: {len(test_data)}\")"
   ]
  },
  {
   "cell_type": "code",
   "execution_count": 103,
   "id": "f2e2353e-4b5f-40b6-befd-c821f95dfd51",
   "metadata": {},
   "outputs": [
    {
     "name": "stderr",
     "output_type": "stream",
     "text": [
      "\\u280b Checking graph\n",
      "\n"
     ]
    },
    {
     "name": "stdout",
     "output_type": "stream",
     "text": [
      "[main ec04f49] Update data split with new random state\n",
      " 2 files changed, 4 insertions(+), 4 deletions(-)\n"
     ]
    }
   ],
   "source": [
    "!dvc add train.csv validation.csv test.csv\n",
    "!git commit -am \"Update data split with new random state\""
   ]
  },
  {
   "cell_type": "markdown",
   "id": "07630d5c-47fc-4456-802b-7f30c3641b95",
   "metadata": {},
   "source": [
    "# checking out new version"
   ]
  },
  {
   "cell_type": "code",
   "execution_count": 104,
   "id": "29abb2f7-b71e-4c58-8cff-2286208331ee",
   "metadata": {},
   "outputs": [],
   "source": [
    "!dvc checkout train.csv validation.csv test.csv"
   ]
  },
  {
   "cell_type": "code",
   "execution_count": 105,
   "id": "71f7a3be-8456-4903-baae-8c9ce86e418c",
   "metadata": {},
   "outputs": [
    {
     "name": "stdout",
     "output_type": "stream",
     "text": [
      "train.csv:\n",
      "label\n",
      "0    3377\n",
      "1     523\n",
      "Name: count, dtype: int64 \n",
      "\n",
      "validation.csv:\n",
      "label\n",
      "0    724\n",
      "1    112\n",
      "Name: count, dtype: int64 \n",
      "\n",
      "test.csv:\n",
      "label\n",
      "0    724\n",
      "1    112\n",
      "Name: count, dtype: int64 \n",
      "\n"
     ]
    }
   ],
   "source": [
    "for split in [\"train.csv\", \"validation.csv\", \"test.csv\"]:\n",
    "    df_split = pd.read_csv(split)\n",
    "    print(f\"{split}:\")\n",
    "    print(df_split['label'].value_counts(), \"\\n\")"
   ]
  },
  {
   "cell_type": "code",
   "execution_count": null,
   "id": "4fe9d672-816a-44ed-b3a4-0bedc0dd99d0",
   "metadata": {},
   "outputs": [],
   "source": []
  },
  {
   "cell_type": "code",
   "execution_count": null,
   "id": "193705c6-acc6-4e22-add4-cd95a88f0d14",
   "metadata": {},
   "outputs": [],
   "source": []
  }
 ],
 "metadata": {
  "kernelspec": {
   "display_name": "Python 3 (ipykernel)",
   "language": "python",
   "name": "python3"
  },
  "language_info": {
   "codemirror_mode": {
    "name": "ipython",
    "version": 3
   },
   "file_extension": ".py",
   "mimetype": "text/x-python",
   "name": "python",
   "nbconvert_exporter": "python",
   "pygments_lexer": "ipython3",
   "version": "3.12.4"
  }
 },
 "nbformat": 4,
 "nbformat_minor": 5
}
